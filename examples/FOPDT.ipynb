{
 "cells": [
  {
   "cell_type": "markdown",
   "metadata": {},
   "source": [
    "# Using the first-order-plus-dead-time model and idenitifying it"
   ]
  },
  {
   "cell_type": "code",
   "execution_count": 1,
   "metadata": {},
   "outputs": [],
   "source": [
    "from homeheating import HeatingModel\n",
    "import numpy as np\n",
    "from gekko import GEKKO\n",
    "import matplotlib.pyplot as plt"
   ]
  },
  {
   "cell_type": "markdown",
   "metadata": {},
   "source": [
    "Below is instantiation of a `HeatingModel` object which has a `FOPDT_model` as a property. The `FOPDT` is a simple diffeq $\\tau_p \\frac{dy(t)}{dt} = -y(t) + K_p u\\left(t-\\theta_p\\right)$. The parameters:\n",
    "\n",
    "- $K_p$ the gain  \n",
    "- $\\theta_p$ the dead time  \n",
    "- $\\tau_p$ the characterisitic time constant  \n",
    "\n",
    "are randomly chosen in order to experiment with various identification techniques. Although, as will be seen later, the paramters can be manually changed. Additionally, the above model can be converted to a state-space formulation in `GEKKO` which makes it easier to manipulate.\n",
    "\n",
    "### N.B. Every time the block below is run, new paramters are randomized"
   ]
  },
  {
   "cell_type": "code",
   "execution_count": 14,
   "metadata": {},
   "outputs": [],
   "source": [
    "k = 200\n",
    "\n",
    "FOPDT = HeatingModel(\n",
    "        model_type=\"FOPDT\", add_noise=False, sample_time=2, time_steps=k\n",
    "    )\n",
    "\n",
    "m = FOPDT.model.define_ss() # define the ss (state-space) formulation"
   ]
  },
  {
   "cell_type": "code",
   "execution_count": 15,
   "metadata": {},
   "outputs": [
    {
     "name": "stdout",
     "output_type": "stream",
     "text": [
      " ----------------------------------------------------------------\n",
      " APMonitor, Version 1.0.3\n",
      " APMonitor Optimization Suite\n",
      " ----------------------------------------------------------------\n",
      " \n",
      " \n",
      " --------- APM Model Size ------------\n",
      " Each time step contains\n",
      "   Objects      :            2\n",
      "   Constants    :            0\n",
      "   Variables    :            4\n",
      "   Intermediates:            0\n",
      "   Connections  :            5\n",
      "   Equations    :            0\n",
      "   Residuals    :            0\n",
      " \n",
      " \n",
      " LTI Model Statistics\n",
      " -------------------------------------\n",
      " Sparse Matrices\n",
      " Continuous Form\n",
      " Matrix    Dimension    Non-zeros\n",
      "   A                 1 x           1                 1\n",
      "   B                 1 x           1                 1\n",
      "   C                 1 x           1                 1\n",
      "   D                 1 x           1                 0\n",
      "   E                 1 x           1                 1\n",
      " -------------------------------------\n",
      " \n",
      " Number of state variables:           4975\n",
      " Number of total equations: -         4975\n",
      " Number of slack variables: -            0\n",
      " ---------------------------------------\n",
      " Degrees of freedom       :              0\n",
      " \n",
      " solver            3  not supported\n",
      " using default solver: APOPT\n",
      " ----------------------------------------------\n",
      " Dynamic Simulation with APOPT Solver\n",
      " ----------------------------------------------\n",
      " \n",
      " Iter    Objective  Convergence\n",
      "    0  8.88734E-33  9.91767E-01\n",
      "    1  8.88734E-33  9.91767E-01\n",
      " Successful solution\n",
      " \n",
      " ---------------------------------------------------\n",
      " Solver         :  IPOPT (v3.12)\n",
      " Solution time  :   4.490000000805594E-002 sec\n",
      " Objective      :   0.000000000000000E+000\n",
      " Successful solution\n",
      " ---------------------------------------------------\n",
      " \n",
      "\n"
     ]
    },
    {
     "data": {
      "image/png": "[encoded data removed]",
      "text/plain": [
       "<Figure size 640x480 with 2 Axes>"
      ]
     },
     "metadata": {},
     "output_type": "display_data"
    }
   ],
   "source": [
    "mv = m.u[0] # define the manipulated variable as the symbolic variable u[0]\n",
    "cv = m.cv # define the controlled variable as the symbolic variable model.CV() from the function definition\n",
    "\n",
    "# generate a step input\n",
    "mv.value = np.zeros(k)\n",
    "mv.value[50:] = 1\n",
    "\n",
    "m.options.imode = 4 # refers to a dynamic simulation\n",
    "m.options.nodes = 2 # collocation points to perform discrete simulation\n",
    "\n",
    "m.solve() # solve the equations by simulating it\n",
    "\n",
    "# plot the input and output\n",
    "plt.subplot(2,1,1)\n",
    "plt.plot(m.time,mv.value,'r-',label=r'u')\n",
    "plt.legend()\n",
    "plt.subplot(2,1,2)\n",
    "plt.plot(m.time,cv.value,'b--',label=r'y')\n",
    "plt.legend()\n",
    "plt.show()\n"
   ]
  },
  {
   "cell_type": "markdown",
   "metadata": {},
   "source": [
    "## Graphically identifying the model\n",
    "\n",
    "There are different methods of idenitfication, but a simple graphcially method will be employed here."
   ]
  },
  {
   "cell_type": "code",
   "execution_count": 6,
   "metadata": {},
   "outputs": [
    {
     "name": "stdout",
     "output_type": "stream",
     "text": [
      " ----------------------------------------------------------------\n",
      " APMonitor, Version 1.0.3\n",
      " APMonitor Optimization Suite\n",
      " ----------------------------------------------------------------\n",
      " \n",
      " \n",
      " --------- APM Model Size ------------\n",
      " Each time step contains\n",
      "   Objects      :            2\n",
      "   Constants    :            0\n",
      "   Variables    :            4\n",
      "   Intermediates:            0\n",
      "   Connections  :            5\n",
      "   Equations    :            0\n",
      "   Residuals    :            0\n",
      " \n",
      " \n",
      " LTI Model Statistics\n",
      " -------------------------------------\n",
      " Sparse Matrices\n",
      " Continuous Form\n",
      " Matrix    Dimension    Non-zeros\n",
      "   A                 1 x           1                 1\n",
      "   B                 1 x           1                 1\n",
      "   C                 1 x           1                 1\n",
      "   D                 1 x           1                 0\n",
      "   E                 1 x           1                 1\n",
      " -------------------------------------\n",
      " \n",
      " Number of state variables:           4577\n",
      " Number of total equations: -         4577\n",
      " Number of slack variables: -            0\n",
      " ---------------------------------------\n",
      " Degrees of freedom       :              0\n",
      " \n",
      " solver            3  not supported\n",
      " using default solver: APOPT\n",
      " ----------------------------------------------\n",
      " Dynamic Simulation with APOPT Solver\n",
      " ----------------------------------------------\n",
      " \n",
      " Iter    Objective  Convergence\n",
      "    0  1.11355E-33  1.78571E-01\n",
      "    1  1.11355E-33  1.78571E-01\n",
      " Successful solution\n",
      " \n",
      " ---------------------------------------------------\n",
      " Solver         :  IPOPT (v3.12)\n",
      " Solution time  :   9.229999998933636E-002 sec\n",
      " Objective      :   0.000000000000000E+000\n",
      " Successful solution\n",
      " ---------------------------------------------------\n",
      " \n",
      "\n"
     ]
    },
    {
     "data": {
      "image/png": "[encoded data removed]",
      "text/plain": [
       "<Figure size 640x480 with 2 Axes>"
      ]
     },
     "metadata": {},
     "output_type": "display_data"
    }
   ],
   "source": [
    "thetap = 40 # the time between the start of the step and the output responding (the inflection point)\n",
    "Kp = 12.5 # the multiplication on the unit step response\n",
    "tau = 70 # the time it takes the output to reach 63.2% of its saturation (starting at the inflection point)\n",
    "\n",
    "k_identified = k\n",
    "\n",
    "FOPDT_identified = HeatingModel(\n",
    "        model_type=\"FOPDT\", add_noise=False, sample_time=2, time_steps=k_identified\n",
    "    )\n",
    "\n",
    "FOPDT_identified.model.time_constant = tau\n",
    "FOPDT_identified.model.gain = Kp\n",
    "FOPDT_identified.model.dead_time = thetap\n",
    "\n",
    "m_identified = FOPDT_identified.model.define_ss()\n",
    "\n",
    "mv_identified = m_identified.u[0]\n",
    "cv_identified = m_identified.cv\n",
    "\n",
    "mv_identified.value = np.zeros(k_identified)\n",
    "mv_identified.value[50:] = 1\n",
    "\n",
    "m_identified.options.imode = 4\n",
    "m_identified.options.nodes = 2\n",
    "\n",
    "m_identified.solve()\n",
    "\n",
    "plt.subplot(2,1,1)\n",
    "plt.plot(m_identified.time,mv_identified.value,'r-',label=r'MV')\n",
    "plt.legend()\n",
    "plt.subplot(2,1,2)\n",
    "plt.plot(m_identified.time,cv_identified.value,'b--',label=r'$CV$')\n",
    "plt.legend()\n",
    "plt.show()\n"
   ]
  },
  {
   "cell_type": "markdown",
   "metadata": {},
   "source": [
    "## The big reveal for the graphical method\n",
    "\n",
    "Now we can do what we wouldn't be able to in the real-world and see how far off our graphical approximation was..."
   ]
  },
  {
   "cell_type": "code",
   "execution_count": 7,
   "metadata": {},
   "outputs": [
    {
     "name": "stdout",
     "output_type": "stream",
     "text": [
      "FOPDT Model:\n",
      "Dead time: 40.9\n",
      "Gain: 13.3\n",
      "Time constant: 93.4\n",
      "\n",
      "FOPDT Identified Model:\n",
      "Dead time: 40\n",
      "Gain: 12.5\n",
      "Time constant: 70\n"
     ]
    }
   ],
   "source": [
    "# Print and round the values from FOPDT\n",
    "print(\"FOPDT Model:\")\n",
    "print(f\"Dead time: {round(FOPDT.model.dead_time, 1)}\")\n",
    "print(f\"Gain: {round(FOPDT.model.gain, 1)}\")\n",
    "print(f\"Time constant: {round(FOPDT.model.time_constant, 1)}\")\n",
    "\n",
    "# Print and round the values from FOPDT_identified\n",
    "print(\"\\nFOPDT Graphically Identified Model:\")\n",
    "print(f\"Dead time: {round(FOPDT_identified.model.dead_time, 1)}\")\n",
    "print(f\"Gain: {round(FOPDT_identified.model.gain, 1)}\")\n",
    "print(f\"Time constant: {round(FOPDT_identified.model.time_constant, 1)}\")"
   ]
  },
  {
   "cell_type": "markdown",
   "metadata": {},
   "source": [
    "# Identification with `GEKKO`\n",
    "\n",
    "This method is an optimization technique which uses a symbolic model to identify the parameters of the `FODPT` model. It is also nice because it can take into account input delays (i.e., the dead time)."
   ]
  },
  {
   "cell_type": "code",
   "execution_count": 95,
   "metadata": {},
   "outputs": [
    {
     "name": "stderr",
     "output_type": "stream",
     "text": [
      "/var/folders/kg/8yp_xckj47ldc9fcxq73kchh0000gn/T/ipykernel_39398/3351780446.py:4: DeprecationWarning: __array__ implementation doesn't accept a copy keyword, so passing copy=False failed. __array__ must implement 'dtype' and 'copy' keyword arguments.\n",
      "  input = np.array(mv.value)\n",
      "/var/folders/kg/8yp_xckj47ldc9fcxq73kchh0000gn/T/ipykernel_39398/3351780446.py:6: DeprecationWarning: __array__ implementation doesn't accept a copy keyword, so passing copy=False failed. __array__ must implement 'dtype' and 'copy' keyword arguments.\n",
      "  output = np.array(cv.value)\n"
     ]
    },
    {
     "name": "stdout",
     "output_type": "stream",
     "text": [
      "<class 'numpy.ndarray'>\n",
      "<class 'numpy.ndarray'>\n",
      "<class 'numpy.ndarray'>\n",
      "(200,)\n",
      "(200,)\n",
      "(200,)\n",
      " ----------------------------------------------------------------\n",
      " APMonitor, Version 1.0.3\n",
      " APMonitor Optimization Suite\n",
      " ----------------------------------------------------------------\n",
      " \n",
      " \n",
      " --------- APM Model Size ------------\n",
      " Each time step contains\n",
      "   Objects      :            1\n",
      "   Constants    :            0\n",
      "   Variables    :            8\n",
      "   Intermediates:            0\n",
      "   Connections  :            2\n",
      "   Equations    :            4\n",
      "   Residuals    :            4\n",
      " \n",
      " Number of state variables:           1197\n",
      " Number of total equations: -         1194\n",
      " Number of slack variables: -            0\n",
      " ---------------------------------------\n",
      " Degrees of freedom       :              3\n",
      " \n",
      " solver            3  not supported\n",
      " using default solver: APOPT\n",
      " ----------------------------------------------\n",
      " Dynamic Estimation with APOPT Solver\n",
      " ----------------------------------------------\n",
      " \n",
      " Iter    Objective  Convergence\n",
      "    0  4.89136E+05  2.16316E+00\n",
      "    1  4.57584E+05  1.58741E-01\n",
      "    2  1.38230E+05  3.92563E-02\n",
      "    3  1.01581E+06  5.70095E-01\n",
      "    4  4.57943E+05  5.95250E-01\n",
      "    5  3.04434E+05  1.46207E-01\n",
      "    6  8.89732E+04  3.10988E-02\n",
      "    7  7.15323E+04  2.53090E-01\n",
      "    8  6.81418E+04  3.87484E-02\n",
      "    9  6.24422E+04  1.65807E-02\n",
      " \n",
      " Iter    Objective  Convergence\n",
      "   10  6.47495E+04  3.24063E-02\n",
      "   11  5.82983E+04  2.28244E-03\n",
      "   12  2.90392E+04  1.94671E-02\n",
      "   13  2.87553E+04  8.08109E-01\n",
      "   14  2.16978E+04  1.68205E-01\n",
      "   15  1.36794E+04  4.30961E-01\n",
      "   16  1.35815E+04  3.26454E-03\n",
      "   17  1.34292E+04  1.21797E-04\n",
      "   18  1.32129E+04  1.41339E-03\n",
      "   19  1.22934E+04  3.63606E-03\n",
      " \n",
      " Iter    Objective  Convergence\n",
      "   20  1.07066E+04  5.58887E-02\n",
      "   21  1.00677E+04  7.47155E-01\n",
      "   22  8.08341E+05  1.61524E+01\n",
      "   23  1.42533E+06  1.36944E+01\n",
      "   24  7.56962E+04  7.54926E-01\n",
      "   25  6.66654E+02  3.59475E-02\n",
      "   26  2.97130E+03  2.72174E-04\n",
      "   27  5.92388E+04  4.84089E-03\n",
      "   28  6.61874E+04  3.32629E-03\n",
      "   29  7.01929E+02  2.72174E-04\n",
      " \n",
      " Iter    Objective  Convergence\n",
      "   30  4.55563E+02  2.38272E-04\n",
      "   31  1.44615E+02  1.99252E-03\n",
      "   32  1.20806E+02  2.30841E+00\n",
      "   33  7.58429E+01  6.52471E-03\n",
      "   34  6.72829E+00  9.78295E-03\n",
      "   35  9.77559E-01  6.35262E-02\n",
      "   36  2.64267E-01  6.16688E-04\n",
      "   37  4.34317E-03  1.48191E-03\n",
      "   38  9.06613E-08  4.63937E-05\n",
      "   39  3.56141E-09  2.48158E-07\n",
      " \n",
      " Iter    Objective  Convergence\n",
      "   40  1.05550E-07  4.52121E-11\n",
      "   41  1.29585E-08  2.51671E-11\n",
      "   42  1.18256E-06  1.24262E-12\n",
      "   43  2.64874E-09  1.24262E-12\n",
      " Successful solution\n",
      " \n",
      " ---------------------------------------------------\n",
      " Solver         :  IPOPT (v3.12)\n",
      " Solution time  :   0.529599999994389      sec\n",
      " Objective      :   2.648742555063738E-009\n",
      " Successful solution\n",
      " ---------------------------------------------------\n",
      " \n",
      "\n",
      "FOPDT Model:\n",
      "Dead time: 45.7\n",
      "Gain: 83.9\n",
      "Time constant: 84.6\n",
      "Kp:  83.86474819\n",
      "taup:  84.560948384\n",
      "thetap:  44.22110174\n"
     ]
    },
    {
     "data": {
      "image/png": "[encoded data removed]",
      "text/plain": [
       "<Figure size 1000x600 with 2 Axes>"
      ]
     },
     "metadata": {},
     "output_type": "display_data"
    }
   ],
   "source": [
    "# load data\n",
    "t = m.time\n",
    "\n",
    "input = np.array(mv.value)\n",
    "output = np.array(cv.value)\n",
    "\n",
    "# generate time-series model\n",
    "sysid_m = GEKKO(remote=False)\n",
    "sysid_m.time = t; time = sysid_m.Var(0); sysid_m.Equation(time.dt()==1)\n",
    "\n",
    "K = sysid_m.FV(50,lb=0,ub=100);      K.STATUS=1\n",
    "tau = sysid_m.FV(50,lb=0,ub=100);  tau.STATUS=1\n",
    "theta_ub = 50 # upper bound to dead-time\n",
    "theta = sysid_m.FV(25,lb=0,ub=theta_ub); theta.STATUS=1\n",
    "\n",
    "# add extrapolation points\n",
    "td = np.concatenate((np.linspace(-theta_ub,min(t)-1e-5,5),t))\n",
    "ud = np.concatenate((u[0]*np.ones(5),input))\n",
    "# create cubic spline with t versus u\n",
    "uc = sysid_m.Var(u); tc = sysid_m.Var(t); sysid_m.Equation(tc==time-theta)\n",
    "sysid_m.cspline(tc,uc,td,ud,bound_x=False)\n",
    "\n",
    "ym = sysid_m.Param(output); yp = sysid_m.Var(output)\n",
    "sysid_m.Equation(tau*yp.dt()+(yp-y[0])==K*(uc-u[0]))\n",
    "\n",
    "sysid_m.Minimize((yp-ym)**2)\n",
    "\n",
    "sysid_m.options.IMODE=5\n",
    "sysid_m.solve()\n",
    "\n",
    "plt.figure(figsize=(10,6))\n",
    "plt.subplot(2,1,1)\n",
    "plt.plot(t,input)\n",
    "plt.legend([r'$u$'])\n",
    "plt.ylabel('y')\n",
    "plt.subplot(2,1,2)\n",
    "plt.plot(t,ym,'b-',label=r'$y_{meas}$')\n",
    "plt.plot(t,yp,'r--',label=r'$y_{pred}$')\n",
    "plt.legend()\n",
    "plt.xlabel('Time (sec)')\n",
    "\n"
   ]
  },
  {
   "cell_type": "markdown",
   "metadata": {},
   "source": [
    "## The big reveal for the optimization method\n",
    "\n",
    "Now we can do what we wouldn't be able to in the real-world and see how far off our optimization was..."
   ]
  },
  {
   "cell_type": "code",
   "execution_count": 98,
   "metadata": {},
   "outputs": [
    {
     "name": "stdout",
     "output_type": "stream",
     "text": [
      "FOPDT Model:\n",
      "Dead time: 45.7\n",
      "Gain: 83.9\n",
      "Time constant: 84.6\n",
      "\n",
      "Optimally Identified FOPDT Model:\n",
      "Dead time: 44.2\n",
      "Gain: 83.9\n",
      "Time constant: 84.6\n"
     ]
    }
   ],
   "source": [
    "print(\"FOPDT Model:\")\n",
    "print(f\"Dead time: {round(FOPDT.model.dead_time, 1)}\")\n",
    "print(f\"Gain: {round(FOPDT.model.gain, 1)}\")\n",
    "print(f\"Time constant: {round(FOPDT.model.time_constant, 1)}\")\n",
    "\n",
    "\n",
    "print(\"\\nOptimally Identified FOPDT Model:\")\n",
    "print(f\"Dead time: {round(theta.value[0], 1)}\")\n",
    "print(f\"Gain: {round(K.value[0], 1)}\")\n",
    "print(f\"Time constant: {round(tau.value[0], 1)}\")\n"
   ]
  },
  {
   "cell_type": "markdown",
   "metadata": {},
   "source": [
    "# PID Control\n",
    "\n",
    "Now that we have our roughly identified model, let's try to control it to a set-point with a PID"
   ]
  },
  {
   "cell_type": "markdown",
   "metadata": {},
   "source": []
  }
 ],
 "metadata": {
  "kernelspec": {
   "display_name": ".venv",
   "language": "python",
   "name": "python3"
  },
  "language_info": {
   "codemirror_mode": {
    "name": "ipython",
    "version": 3
   },
   "file_extension": ".py",
   "mimetype": "text/x-python",
   "name": "python",
   "nbconvert_exporter": "python",
   "pygments_lexer": "ipython3",
   "version": "3.13.0"
  }
 },
 "nbformat": 4,
 "nbformat_minor": 2
}
